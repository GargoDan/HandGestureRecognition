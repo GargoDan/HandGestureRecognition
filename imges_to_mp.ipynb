{
 "cells": [
  {
   "cell_type": "code",
   "execution_count": 1,
   "metadata": {},
   "outputs": [],
   "source": [
    "import cv2\n",
    "import numpy as np\n",
    "import os\n",
    "import mediapipe as mp\n",
    "import pandas as pd\n",
    "from tqdm import tqdm\n",
    "\n",
    "from utils.utils import *"
   ]
  },
  {
   "cell_type": "code",
   "execution_count": 3,
   "metadata": {},
   "outputs": [],
   "source": [
    "mp_hands = mp.solutions.hands # Hands model\n",
    "mp_drawing = mp.solutions.drawing_utils # Drawing utilities\n",
    "mp_drawing_styles = mp.solutions.drawing_styles\n",
    "\n",
    "hands = mp_hands.Hands(min_detection_confidence=0.5, min_tracking_confidence=0.5)"
   ]
  },
  {
   "cell_type": "code",
   "execution_count": 6,
   "metadata": {},
   "outputs": [
    {
     "name": "stdout",
     "output_type": "stream",
     "text": [
      "air\n"
     ]
    },
    {
     "name": "stderr",
     "output_type": "stream",
     "text": [
      "100%|██████████| 429/429 [00:16<00:00, 26.09it/s]\n"
     ]
    },
    {
     "name": "stdout",
     "output_type": "stream",
     "text": [
      "earth\n"
     ]
    },
    {
     "name": "stderr",
     "output_type": "stream",
     "text": [
      "100%|██████████| 716/716 [00:28<00:00, 25.18it/s]\n"
     ]
    },
    {
     "name": "stdout",
     "output_type": "stream",
     "text": [
      "water\n"
     ]
    },
    {
     "name": "stderr",
     "output_type": "stream",
     "text": [
      "100%|██████████| 405/405 [00:15<00:00, 25.56it/s]\n"
     ]
    },
    {
     "name": "stdout",
     "output_type": "stream",
     "text": [
      "fire\n"
     ]
    },
    {
     "name": "stderr",
     "output_type": "stream",
     "text": [
      "100%|██████████| 725/725 [00:32<00:00, 22.25it/s]\n"
     ]
    }
   ],
   "source": [
    "data = pd.DataFrame()\n",
    "\n",
    "actions = ['air', 'earth', 'water', 'fire']\n",
    "DATA_FOLDER = 'C:\\\\Users\\\\dandy\\\\hand gesture recognition\\\\images'\n",
    "\n",
    "hands = mp_hands.Hands(min_detection_confidence=0.5, min_tracking_confidence=0.5)\n",
    "\n",
    "for action in actions:\n",
    "    print(action)\n",
    "    dir = list(os.walk(os.path.join(DATA_FOLDER, action)))[0][2]\n",
    "    for image_id in tqdm(dir):\n",
    "        image = cv2.imread(os.path.join(DATA_FOLDER, action, image_id))\n",
    "        image, results = mediapipe_detection(image, hands)\n",
    "        \n",
    "        if results.multi_hand_landmarks:\n",
    "            kps = extract_keypoints(results)\n",
    "            batch_of_data = pd.DataFrame(kps).T\n",
    "            batch_of_data['action'] = action\n",
    "            \n",
    "            data = pd.concat([data, batch_of_data])\n",
    "        "
   ]
  },
  {
   "cell_type": "code",
   "execution_count": 32,
   "metadata": {},
   "outputs": [],
   "source": [
    "data = data.loc[data.loc[:, 63:125].sum(axis=1) != 0]\n",
    "data = data.loc[data.loc[:, :62].sum(axis=1) != 0]"
   ]
  },
  {
   "cell_type": "code",
   "execution_count": 15,
   "metadata": {},
   "outputs": [
    {
     "name": "stdout",
     "output_type": "stream",
     "text": [
      "trash\n"
     ]
    },
    {
     "name": "stderr",
     "output_type": "stream",
     "text": [
      "100%|██████████| 1332/1332 [00:55<00:00, 23.80it/s]\n"
     ]
    }
   ],
   "source": [
    "data_trash = pd.DataFrame()\n",
    "\n",
    "actions = ['trash']\n",
    "DATA_FOLDER = 'C:\\\\Users\\\\dandy\\\\hand gesture recognition\\\\images'\n",
    "\n",
    "hands = mp_hands.Hands(min_detection_confidence=0.3, min_tracking_confidence=0.3)\n",
    "\n",
    "for action in actions:\n",
    "    print(action)\n",
    "    dir = list(os.walk(os.path.join(DATA_FOLDER, action)))[0][2]\n",
    "    for image_id in tqdm(dir[:-1200]):\n",
    "        image = cv2.imread(os.path.join(DATA_FOLDER, action, image_id))\n",
    "        image, results = mediapipe_detection(image, hands)\n",
    "        \n",
    "        if results.multi_hand_landmarks:\n",
    "            kps = extract_keypoints(results)\n",
    "            batch_of_data = pd.DataFrame(kps).T\n",
    "            batch_of_data['action'] = action\n",
    "            \n",
    "            data_trash = pd.concat([data_trash, batch_of_data])\n",
    "        "
   ]
  },
  {
   "cell_type": "code",
   "execution_count": 17,
   "metadata": {},
   "outputs": [],
   "source": [
    "full_data = pd.concat([data, data_trash])\n",
    "full_data.to_csv('C:\\\\Users\\\\dandy\\\\hand gesture recognition\\\\images\\\\data_world_v5_nf_clear.csv')"
   ]
  }
 ],
 "metadata": {
  "interpreter": {
   "hash": "2fccb30966a34eb4c203704ea4419f01615b8311d9095c0bab7b138fa2d01430"
  },
  "kernelspec": {
   "display_name": "Python 3.8.8 ('base')",
   "language": "python",
   "name": "python3"
  },
  "language_info": {
   "codemirror_mode": {
    "name": "ipython",
    "version": 3
   },
   "file_extension": ".py",
   "mimetype": "text/x-python",
   "name": "python",
   "nbconvert_exporter": "python",
   "pygments_lexer": "ipython3",
   "version": "3.8.8"
  },
  "orig_nbformat": 4
 },
 "nbformat": 4,
 "nbformat_minor": 2
}
