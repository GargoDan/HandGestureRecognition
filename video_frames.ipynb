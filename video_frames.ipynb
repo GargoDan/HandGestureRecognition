{
 "cells": [
  {
   "cell_type": "code",
   "execution_count": 2,
   "metadata": {},
   "outputs": [],
   "source": [
    "import cv2\n",
    "import matplotlib.pyplot as plt\n",
    "import numpy as np\n",
    "import os"
   ]
  },
  {
   "cell_type": "code",
   "execution_count": 3,
   "metadata": {},
   "outputs": [],
   "source": [
    "def get_frames(video_path):\n",
    "    vidcap = cv2.VideoCapture(video_path)\n",
    "    success, image = vidcap.read()\n",
    "    image_datas = []\n",
    "\n",
    "    while success:\n",
    "        image_datas.append(image)\n",
    "        success, image = vidcap.read()\n",
    "\n",
    "    assert len(image_datas) == 30\n",
    "\n",
    "    return image_datas"
   ]
  },
  {
   "cell_type": "code",
   "execution_count": 5,
   "metadata": {},
   "outputs": [],
   "source": [
    "def plot_frames(image_datas):\n",
    "    f, axarr = plt.subplots(3, 10, figsize=(18, 6))\n",
    "    counter = 0\n",
    "    for x in range(3):\n",
    "        for y in range(10):\n",
    "            axarr[x, y].imshow(image_datas[counter])\n",
    "            axarr[x, y].axis('off')\n",
    "            axarr[x, y].title.set_text(counter)\n",
    "            counter += 1\n",
    "    plt.show()"
   ]
  },
  {
   "cell_type": "code",
   "execution_count": 6,
   "metadata": {},
   "outputs": [],
   "source": [
    "def save_imgs(images, new_cl, trash_cl, new_path, trash_path, counter):\n",
    "    if len(new_cl) != 1:\n",
    "        for i in range(new_cl[0], new_cl[1] + 1):\n",
    "            cv2.imwrite(os.path.join(new_path, 'img' + str(i) + '_' + str(counter) + '.jpg'), images[i])\n",
    "\n",
    "    if len(trash_cl) != 1:\n",
    "        for i in range(trash_cl[0], trash_cl[1] + 1):   \n",
    "            cv2.imwrite(os.path.join(trash_path, 'img' + str(i) + '_' + str(counter) + '.jpg'), images[i])"
   ]
  },
  {
   "cell_type": "code",
   "execution_count": null,
   "metadata": {},
   "outputs": [],
   "source": [
    "DATA_FOLDER = 'full_data'\n",
    "FOLDER_TO_SAVE = 'C:\\\\Users\\\\dandy\\\\hand gesture recognition\\\\images'\n",
    "\n",
    "# Actions that we try to detect\n",
    "actions = np.array(['earth'])\n",
    "trash_path = 'C:\\\\Users\\\\dandy\\\\hand gesture recognition\\\\images\\\\trash'\n",
    "counter = 91 # сделать чтобы сохранялс в файл и читался оттуда\n",
    "for action in actions:\n",
    "    dirs = list(os.walk(os.path.join(DATA_FOLDER, action)))[1:]\n",
    "    dir_to_save = os.path.join(FOLDER_TO_SAVE, action)\n",
    "    for dir in dirs[28:]:\n",
    "        video_path = os.path.join(dir[0], 'video.mp4')\n",
    "        image_datas = get_frames(video_path)\n",
    "        plot_frames(image_datas)\n",
    "\n",
    "        new_class = list(int(x) for x in input('New class images: ').split()) \n",
    "        trash_class = list(int(x) for x in input('TRASH class images: ').split())\n",
    "        \n",
    "        if new_class[0] == -1 or trash_class[0] == -1:\n",
    "            break\n",
    "        \n",
    "        save_imgs(image_datas, new_class, trash_class, dir_to_save, trash_path, counter)\n",
    "        counter += 1\n",
    "\n",
    "    if new_class[0] == -1 or trash_class[0] == -1:\n",
    "            break\n",
    "\n",
    "        "
   ]
  },
  {
   "cell_type": "code",
   "execution_count": 12,
   "metadata": {},
   "outputs": [
    {
     "data": {
      "text/plain": [
       "106"
      ]
     },
     "execution_count": 12,
     "metadata": {},
     "output_type": "execute_result"
    }
   ],
   "source": [
    "counter"
   ]
  },
  {
   "cell_type": "code",
   "execution_count": null,
   "metadata": {},
   "outputs": [],
   "source": [
    "# 50 - fire\n",
    "# 59 - water\n",
    "# 91 - earth 28+15\n",
    "# 118 - air"
   ]
  }
 ],
 "metadata": {
  "interpreter": {
   "hash": "2fccb30966a34eb4c203704ea4419f01615b8311d9095c0bab7b138fa2d01430"
  },
  "kernelspec": {
   "display_name": "Python 3.8.8 ('base')",
   "language": "python",
   "name": "python3"
  },
  "language_info": {
   "codemirror_mode": {
    "name": "ipython",
    "version": 3
   },
   "file_extension": ".py",
   "mimetype": "text/x-python",
   "name": "python",
   "nbconvert_exporter": "python",
   "pygments_lexer": "ipython3",
   "version": "3.8.8"
  },
  "orig_nbformat": 4
 },
 "nbformat": 4,
 "nbformat_minor": 2
}
