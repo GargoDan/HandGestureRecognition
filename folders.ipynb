{
 "cells": [
  {
   "cell_type": "code",
   "execution_count": 1,
   "metadata": {},
   "outputs": [],
   "source": [
    "import os\n",
    "import numpy as np\n",
    "import pandas as pd"
   ]
  },
  {
   "cell_type": "code",
   "execution_count": 2,
   "metadata": {},
   "outputs": [],
   "source": [
    "DATA_FOLDER = 'full_data'\n",
    "\n",
    "# Actions that we try to detect\n",
    "actions = np.array(['fire', 'water', 'earth', 'air'])"
   ]
  },
  {
   "cell_type": "code",
   "execution_count": 18,
   "metadata": {},
   "outputs": [],
   "source": [
    "data = pd.DataFrame()\n",
    "\n",
    "for action in actions:\n",
    "    dirs = list(os.walk(os.path.join(DATA_FOLDER, action)))[1:]\n",
    "    counter = 0\n",
    "    for dir in dirs:\n",
    "        test_arr = np.load(os.path.join(dir[0], 'kp.npy'))\n",
    "        \n",
    "        left_hand = test_arr[:int(test_arr.shape[0] / 2)].reshape((21*3, -1))\n",
    "        right_hand = test_arr[int(test_arr.shape[0] / 2):].reshape((21*3, -1))\n",
    "\n",
    "        if left_hand.shape[1] < 30:\n",
    "            np_z = np.zeros((left_hand.shape[0], 30 - left_hand.shape[1]))\n",
    "            left_hand = np.append(left_hand, np_z, axis=1)\n",
    "            right_hand = np.append(right_hand, np_z, axis=1)\n",
    "        \n",
    "        assert left_hand.shape[1] == 30\n",
    "        assert left_hand.shape == right_hand.shape\n",
    "        \n",
    "        batch_of_data = pd.DataFrame(np.concatenate([left_hand.T, right_hand.T], axis=1))\n",
    "        batch_of_data['action'] = action\n",
    "        batch_of_data['num_of_action'] = counter\n",
    "        data = pd.concat([data, batch_of_data])\n",
    "\n",
    "        counter += 1"
   ]
  },
  {
   "cell_type": "code",
   "execution_count": 19,
   "metadata": {},
   "outputs": [],
   "source": [
    "data.to_csv('data_30.csv')"
   ]
  },
  {
   "cell_type": "code",
   "execution_count": null,
   "metadata": {},
   "outputs": [],
   "source": []
  }
 ],
 "metadata": {
  "interpreter": {
   "hash": "2fccb30966a34eb4c203704ea4419f01615b8311d9095c0bab7b138fa2d01430"
  },
  "kernelspec": {
   "display_name": "Python 3.8.8 64-bit ('base': conda)",
   "language": "python",
   "name": "python3"
  },
  "language_info": {
   "codemirror_mode": {
    "name": "ipython",
    "version": 3
   },
   "file_extension": ".py",
   "mimetype": "text/x-python",
   "name": "python",
   "nbconvert_exporter": "python",
   "pygments_lexer": "ipython3",
   "version": "3.8.8"
  },
  "orig_nbformat": 4
 },
 "nbformat": 4,
 "nbformat_minor": 2
}
