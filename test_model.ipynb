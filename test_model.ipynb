{
 "cells": [
  {
   "cell_type": "code",
   "execution_count": 12,
   "metadata": {},
   "outputs": [],
   "source": [
    "import time\n",
    "import numpy as np\n",
    "import cv2\n",
    "import mediapipe as mp\n",
    "\n",
    "from utils.utils import *\n",
    "from catboost import CatBoostClassifier"
   ]
  },
  {
   "cell_type": "code",
   "execution_count": 4,
   "metadata": {},
   "outputs": [],
   "source": [
    "colors = [(245,117,16), (117,245,16), (16,117,245), (255, 185, 0), (255, 100, 0)]\n",
    "def prob_viz(res, actions, input_frame, colors):\n",
    "    output_frame = input_frame.copy()\n",
    "    for num, prob in enumerate(res):\n",
    "        cv2.rectangle(output_frame, (0,60+num*40), (int(prob*100), 90+num*40), colors[num], -1)\n",
    "        cv2.putText(output_frame, actions[num], (0, 85+num*40), cv2.FONT_HERSHEY_SIMPLEX, 1, (255,255,255), 2, cv2.LINE_AA)\n",
    "        \n",
    "    return output_frame\n",
    "\n",
    "\n",
    "mp_hands = mp.solutions.hands # Hands model\n",
    "mp_drawing = mp.solutions.drawing_utils # Drawing utilities\n",
    "mp_drawing_styles = mp.solutions.drawing_styles\n",
    "\n",
    "actions = np.array(['fire', 'water', 'earth', 'air', 'trash'])\n",
    "map_actions = {label:num for num, label in enumerate(actions)}\n",
    "inv_map_actions = {v: k for k, v in map_actions.items()}"
   ]
  },
  {
   "cell_type": "code",
   "execution_count": 8,
   "metadata": {},
   "outputs": [],
   "source": [
    "model = CatBoostClassifier()\n",
    "\n",
    "model.load_model('C:\\\\Users\\\\dandy\\\\hand gesture recognition\\\\models\\\\catboost_m_v5_nf_cl.cbm')\n",
    "classes = model.classes_\n",
    "actions = model.classes_\n",
    "map_actions = {label:num for num, label in enumerate(actions)}\n",
    "inv_map_actions = {v: k for k, v in map_actions.items()}"
   ]
  },
  {
   "cell_type": "code",
   "execution_count": 27,
   "metadata": {},
   "outputs": [],
   "source": [
    "# 1. New detection variables\n",
    "# sequence = np.array([[0, 0, 0, 0]])\n",
    "sequence = []\n",
    "str_action = []\n",
    "predictions = []\n",
    "threshold = 0.7\n",
    "\n",
    "cap = cv2.VideoCapture(0)\n",
    "# Set mediapipe model \n",
    "\n",
    "prev_frame_time = 0\n",
    "new_frame_time = 0\n",
    "\n",
    "with mp_hands.Hands(min_detection_confidence=0.7, min_tracking_confidence=0.7) as hands:\n",
    "    while cap.isOpened():\n",
    "        # Read feed\n",
    "        ret, frame = cap.read()\n",
    "        frame = cv2.flip(frame, 1) # flip the frame to detect hands cprrectly\n",
    "\n",
    "        new_frame_time = time.time()\n",
    "\n",
    "        fps = 1 / (new_frame_time - prev_frame_time)\n",
    "        prev_frame_time = new_frame_time\n",
    "        fps = str(int(fps))\n",
    "\n",
    "        # Make detections\n",
    "        image, results = mediapipe_detection(frame, hands)\n",
    "        \n",
    "        # Draw landmarks\n",
    "        if results.multi_hand_landmarks:\n",
    "            for hand_landmarks in results.multi_hand_landmarks:\n",
    "                mp_drawing.draw_landmarks(\n",
    "                    image,\n",
    "                    hand_landmarks,\n",
    "                    mp_hands.HAND_CONNECTIONS,\n",
    "                    mp_drawing_styles.get_default_hand_landmarks_style(),\n",
    "                    mp_drawing_styles.get_default_hand_connections_style())\n",
    "\n",
    "            # 2. Prediction logic\n",
    "            # only if hand detected\n",
    "            keypoints = extract_keypoints(results)\n",
    "\n",
    "            res = model.predict_proba(keypoints)\n",
    "            # print(keypoints[-1])\n",
    "            predictions.append(np.argmax(res))\n",
    "\n",
    "            #3. Viz logic\n",
    "        if len(predictions) > 0:\n",
    "            image = prob_viz(res, actions, image, colors)\n",
    "            if np.unique(predictions[-5:])[0] == np.argmax(res): # если последние 10 предикты совпадают\n",
    "                if res[np.argmax(res)] > threshold:\n",
    "                    str_action = inv_map_actions[np.argmax(res)]\n",
    "            \n",
    "            \n",
    "        cv2.rectangle(image, (0,0), (640, 40), (245, 117, 16), -1)\n",
    "        cv2.putText(image, ' '.join(str_action), (3,30), \n",
    "                       cv2.FONT_HERSHEY_SIMPLEX, 1, (255, 255, 255), 2, cv2.LINE_AA)\n",
    "        cv2.putText(image, fps, (500, 30), cv2.FONT_HERSHEY_SIMPLEX, 1, (255, 255, 0), 3, cv2.LINE_AA)\n",
    "        # Show to screen\n",
    "        cv2.imshow('OpenCV Feed', image)\n",
    "\n",
    "        # Break gracefully\n",
    "        if cv2.waitKey(10) & 0xFF == ord('q'):\n",
    "            break\n",
    "        \n",
    "    cap.release()\n",
    "    cv2.destroyAllWindows()"
   ]
  },
  {
   "cell_type": "code",
   "execution_count": 6,
   "metadata": {},
   "outputs": [],
   "source": [
    "cap.release()\n",
    "cv2.destroyAllWindows()"
   ]
  },
  {
   "cell_type": "code",
   "execution_count": null,
   "metadata": {},
   "outputs": [],
   "source": []
  }
 ],
 "metadata": {
  "interpreter": {
   "hash": "2fccb30966a34eb4c203704ea4419f01615b8311d9095c0bab7b138fa2d01430"
  },
  "kernelspec": {
   "display_name": "Python 3.8.8 ('base')",
   "language": "python",
   "name": "python3"
  },
  "language_info": {
   "codemirror_mode": {
    "name": "ipython",
    "version": 3
   },
   "file_extension": ".py",
   "mimetype": "text/x-python",
   "name": "python",
   "nbconvert_exporter": "python",
   "pygments_lexer": "ipython3",
   "version": "3.8.8"
  },
  "orig_nbformat": 4
 },
 "nbformat": 4,
 "nbformat_minor": 2
}
