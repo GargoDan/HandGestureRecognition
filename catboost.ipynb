{
 "cells": [
  {
   "cell_type": "code",
   "execution_count": 8,
   "metadata": {},
   "outputs": [],
   "source": [
    "from catboost import CatBoostClassifier, Pool\n",
    "import catboost\n",
    "import lightgbm as lgb\n",
    "from sklearn.model_selection import train_test_split\n",
    "import pandas as pd\n",
    "import numpy as np"
   ]
  },
  {
   "cell_type": "code",
   "execution_count": 14,
   "metadata": {},
   "outputs": [],
   "source": [
    "full_data = pd.read_csv('C:\\\\Users\\\\dandy\\\\hand gesture recognition\\\\images\\\\data_world_v5_nf_clear.csv', index_col=0)"
   ]
  },
  {
   "cell_type": "code",
   "execution_count": 15,
   "metadata": {},
   "outputs": [],
   "source": [
    "X_train, X_test, y_train, y_test = train_test_split(full_data.iloc[:, :-1], \n",
    "                                                    full_data.iloc[:, -1], train_size=0.8, random_state=42)"
   ]
  },
  {
   "cell_type": "code",
   "execution_count": 16,
   "metadata": {},
   "outputs": [],
   "source": [
    "train_pool = Pool(data=X_train, label=y_train)\n",
    "validation_pool = Pool(data=X_test, label=y_test)"
   ]
  },
  {
   "cell_type": "code",
   "execution_count": 18,
   "metadata": {},
   "outputs": [
    {
     "name": "stderr",
     "output_type": "stream",
     "text": [
      "Custom logger is already specified. Specify more than one logger at same time is not thread safe."
     ]
    },
    {
     "name": "stdout",
     "output_type": "stream",
     "text": [
      "0:\tlearn: 1.5743845\ttest: 1.5745444\tbest: 1.5745444 (0)\ttotal: 13.8ms\tremaining: 2m 18s\n",
      "100:\tlearn: 0.3877356\ttest: 0.3866091\tbest: 0.3866091 (100)\ttotal: 1.19s\tremaining: 1m 56s\n",
      "200:\tlearn: 0.1474288\ttest: 0.1462818\tbest: 0.1462818 (200)\ttotal: 2.38s\tremaining: 1m 56s\n",
      "300:\tlearn: 0.0666632\ttest: 0.0654795\tbest: 0.0654795 (300)\ttotal: 3.58s\tremaining: 1m 55s\n",
      "400:\tlearn: 0.0347264\ttest: 0.0335640\tbest: 0.0335640 (400)\ttotal: 4.76s\tremaining: 1m 54s\n",
      "500:\tlearn: 0.0211708\ttest: 0.0202050\tbest: 0.0202050 (500)\ttotal: 5.93s\tremaining: 1m 52s\n",
      "600:\tlearn: 0.0143108\ttest: 0.0135696\tbest: 0.0135696 (600)\ttotal: 7.08s\tremaining: 1m 50s\n",
      "700:\tlearn: 0.0106922\ttest: 0.0101511\tbest: 0.0101511 (700)\ttotal: 8.23s\tremaining: 1m 49s\n",
      "800:\tlearn: 0.0084045\ttest: 0.0079830\tbest: 0.0079830 (800)\ttotal: 9.39s\tremaining: 1m 47s\n",
      "900:\tlearn: 0.0068603\ttest: 0.0065476\tbest: 0.0065476 (900)\ttotal: 10.5s\tremaining: 1m 46s\n",
      "1000:\tlearn: 0.0057982\ttest: 0.0055966\tbest: 0.0055966 (1000)\ttotal: 11.7s\tremaining: 1m 44s\n",
      "1100:\tlearn: 0.0051012\ttest: 0.0049946\tbest: 0.0049946 (1100)\ttotal: 12.8s\tremaining: 1m 43s\n",
      "1200:\tlearn: 0.0045759\ttest: 0.0045481\tbest: 0.0045481 (1200)\ttotal: 14s\tremaining: 1m 42s\n",
      "1300:\tlearn: 0.0041548\ttest: 0.0041842\tbest: 0.0041842 (1300)\ttotal: 15.1s\tremaining: 1m 41s\n",
      "1400:\tlearn: 0.0037700\ttest: 0.0038340\tbest: 0.0038340 (1400)\ttotal: 16.3s\tremaining: 1m 39s\n",
      "1500:\tlearn: 0.0034345\ttest: 0.0035257\tbest: 0.0035257 (1500)\ttotal: 17.4s\tremaining: 1m 38s\n",
      "1600:\tlearn: 0.0031681\ttest: 0.0032864\tbest: 0.0032864 (1600)\ttotal: 18.5s\tremaining: 1m 37s\n",
      "1700:\tlearn: 0.0029532\ttest: 0.0030959\tbest: 0.0030959 (1700)\ttotal: 19.7s\tremaining: 1m 36s\n",
      "1800:\tlearn: 0.0027680\ttest: 0.0029335\tbest: 0.0029335 (1800)\ttotal: 20.8s\tremaining: 1m 34s\n",
      "1900:\tlearn: 0.0026091\ttest: 0.0027947\tbest: 0.0027947 (1900)\ttotal: 21.9s\tremaining: 1m 33s\n",
      "2000:\tlearn: 0.0024804\ttest: 0.0026855\tbest: 0.0026855 (2000)\ttotal: 23.1s\tremaining: 1m 32s\n",
      "2100:\tlearn: 0.0023614\ttest: 0.0025863\tbest: 0.0025863 (2100)\ttotal: 24.2s\tremaining: 1m 31s\n",
      "2200:\tlearn: 0.0022544\ttest: 0.0024977\tbest: 0.0024977 (2200)\ttotal: 25.4s\tremaining: 1m 29s\n",
      "2300:\tlearn: 0.0021533\ttest: 0.0024126\tbest: 0.0024126 (2300)\ttotal: 26.5s\tremaining: 1m 28s\n",
      "2400:\tlearn: 0.0020575\ttest: 0.0023273\tbest: 0.0023273 (2400)\ttotal: 27.6s\tremaining: 1m 27s\n",
      "2500:\tlearn: 0.0019736\ttest: 0.0022571\tbest: 0.0022571 (2500)\ttotal: 28.8s\tremaining: 1m 26s\n",
      "2600:\tlearn: 0.0018938\ttest: 0.0021867\tbest: 0.0021867 (2600)\ttotal: 29.9s\tremaining: 1m 25s\n",
      "2700:\tlearn: 0.0018340\ttest: 0.0021395\tbest: 0.0021395 (2700)\ttotal: 31.1s\tremaining: 1m 23s\n",
      "2800:\tlearn: 0.0017725\ttest: 0.0020877\tbest: 0.0020877 (2800)\ttotal: 32.2s\tremaining: 1m 22s\n",
      "2900:\tlearn: 0.0017149\ttest: 0.0020405\tbest: 0.0020405 (2900)\ttotal: 33.4s\tremaining: 1m 21s\n",
      "3000:\tlearn: 0.0016666\ttest: 0.0020003\tbest: 0.0020003 (3000)\ttotal: 34.5s\tremaining: 1m 20s\n",
      "3100:\tlearn: 0.0016181\ttest: 0.0019603\tbest: 0.0019603 (3100)\ttotal: 35.6s\tremaining: 1m 19s\n",
      "3200:\tlearn: 0.0015741\ttest: 0.0019241\tbest: 0.0019241 (3200)\ttotal: 36.8s\tremaining: 1m 18s\n",
      "3300:\tlearn: 0.0015221\ttest: 0.0018790\tbest: 0.0018790 (3300)\ttotal: 37.9s\tremaining: 1m 16s\n",
      "3400:\tlearn: 0.0014816\ttest: 0.0018458\tbest: 0.0018458 (3400)\ttotal: 39s\tremaining: 1m 15s\n",
      "3500:\tlearn: 0.0014402\ttest: 0.0018126\tbest: 0.0018126 (3500)\ttotal: 40.2s\tremaining: 1m 14s\n",
      "3600:\tlearn: 0.0013969\ttest: 0.0017753\tbest: 0.0017753 (3600)\ttotal: 41.3s\tremaining: 1m 13s\n",
      "3700:\tlearn: 0.0013570\ttest: 0.0017461\tbest: 0.0017461 (3700)\ttotal: 42.4s\tremaining: 1m 12s\n",
      "3800:\tlearn: 0.0013192\ttest: 0.0017136\tbest: 0.0017136 (3800)\ttotal: 43.6s\tremaining: 1m 11s\n",
      "3900:\tlearn: 0.0012815\ttest: 0.0016818\tbest: 0.0016818 (3900)\ttotal: 44.7s\tremaining: 1m 9s\n",
      "4000:\tlearn: 0.0012425\ttest: 0.0016483\tbest: 0.0016483 (4000)\ttotal: 45.8s\tremaining: 1m 8s\n",
      "4100:\tlearn: 0.0012091\ttest: 0.0016196\tbest: 0.0016196 (4100)\ttotal: 47s\tremaining: 1m 7s\n",
      "4200:\tlearn: 0.0011766\ttest: 0.0015932\tbest: 0.0015932 (4200)\ttotal: 48.1s\tremaining: 1m 6s\n",
      "4300:\tlearn: 0.0011494\ttest: 0.0015719\tbest: 0.0015719 (4300)\ttotal: 49.2s\tremaining: 1m 5s\n",
      "4400:\tlearn: 0.0011150\ttest: 0.0015398\tbest: 0.0015398 (4400)\ttotal: 50.3s\tremaining: 1m 4s\n",
      "4500:\tlearn: 0.0010845\ttest: 0.0015147\tbest: 0.0015147 (4500)\ttotal: 51.5s\tremaining: 1m 2s\n",
      "4600:\tlearn: 0.0010543\ttest: 0.0014912\tbest: 0.0014912 (4600)\ttotal: 52.6s\tremaining: 1m 1s\n",
      "4700:\tlearn: 0.0010253\ttest: 0.0014664\tbest: 0.0014664 (4700)\ttotal: 53.8s\tremaining: 1m\n",
      "4800:\tlearn: 0.0009995\ttest: 0.0014450\tbest: 0.0014450 (4800)\ttotal: 54.9s\tremaining: 59.5s\n",
      "4900:\tlearn: 0.0009729\ttest: 0.0014196\tbest: 0.0014196 (4900)\ttotal: 56s\tremaining: 58.3s\n",
      "5000:\tlearn: 0.0009457\ttest: 0.0013951\tbest: 0.0013951 (5000)\ttotal: 57.2s\tremaining: 57.1s\n",
      "5100:\tlearn: 0.0009232\ttest: 0.0013770\tbest: 0.0013770 (5100)\ttotal: 58.3s\tremaining: 56s\n",
      "5200:\tlearn: 0.0009033\ttest: 0.0013593\tbest: 0.0013593 (5200)\ttotal: 59.4s\tremaining: 54.8s\n",
      "5300:\tlearn: 0.0008810\ttest: 0.0013384\tbest: 0.0013384 (5300)\ttotal: 1m\tremaining: 53.7s\n",
      "5400:\tlearn: 0.0008605\ttest: 0.0013180\tbest: 0.0013180 (5400)\ttotal: 1m 1s\tremaining: 52.5s\n",
      "5500:\tlearn: 0.0008398\ttest: 0.0013006\tbest: 0.0013006 (5500)\ttotal: 1m 2s\tremaining: 51.4s\n",
      "5600:\tlearn: 0.0008212\ttest: 0.0012842\tbest: 0.0012842 (5600)\ttotal: 1m 3s\tremaining: 50.2s\n",
      "5700:\tlearn: 0.0008038\ttest: 0.0012678\tbest: 0.0012677 (5699)\ttotal: 1m 5s\tremaining: 49.1s\n",
      "5800:\tlearn: 0.0007850\ttest: 0.0012505\tbest: 0.0012505 (5800)\ttotal: 1m 6s\tremaining: 47.9s\n",
      "5900:\tlearn: 0.0007681\ttest: 0.0012344\tbest: 0.0012344 (5899)\ttotal: 1m 7s\tremaining: 46.8s\n",
      "6000:\tlearn: 0.0007518\ttest: 0.0012179\tbest: 0.0012179 (6000)\ttotal: 1m 8s\tremaining: 45.6s\n",
      "6100:\tlearn: 0.0007373\ttest: 0.0012060\tbest: 0.0012060 (6100)\ttotal: 1m 9s\tremaining: 44.5s\n",
      "6200:\tlearn: 0.0007221\ttest: 0.0011913\tbest: 0.0011913 (6200)\ttotal: 1m 10s\tremaining: 43.4s\n",
      "6300:\tlearn: 0.0007077\ttest: 0.0011780\tbest: 0.0011780 (6300)\ttotal: 1m 12s\tremaining: 42.3s\n",
      "6400:\tlearn: 0.0006944\ttest: 0.0011653\tbest: 0.0011653 (6400)\ttotal: 1m 13s\tremaining: 41.2s\n",
      "6500:\tlearn: 0.0006820\ttest: 0.0011551\tbest: 0.0011551 (6500)\ttotal: 1m 14s\tremaining: 40.1s\n",
      "6600:\tlearn: 0.0006684\ttest: 0.0011426\tbest: 0.0011426 (6600)\ttotal: 1m 15s\tremaining: 39s\n",
      "6700:\tlearn: 0.0006557\ttest: 0.0011297\tbest: 0.0011297 (6700)\ttotal: 1m 16s\tremaining: 37.9s\n",
      "6800:\tlearn: 0.0006428\ttest: 0.0011171\tbest: 0.0011171 (6800)\ttotal: 1m 18s\tremaining: 36.8s\n",
      "6900:\tlearn: 0.0006319\ttest: 0.0011069\tbest: 0.0011069 (6899)\ttotal: 1m 19s\tremaining: 35.6s\n",
      "7000:\tlearn: 0.0006199\ttest: 0.0010950\tbest: 0.0010950 (7000)\ttotal: 1m 20s\tremaining: 34.6s\n",
      "7100:\tlearn: 0.0006089\ttest: 0.0010853\tbest: 0.0010853 (7100)\ttotal: 1m 21s\tremaining: 33.5s\n",
      "7200:\tlearn: 0.0005980\ttest: 0.0010741\tbest: 0.0010741 (7199)\ttotal: 1m 23s\tremaining: 32.4s\n",
      "7300:\tlearn: 0.0005876\ttest: 0.0010640\tbest: 0.0010640 (7300)\ttotal: 1m 24s\tremaining: 31.2s\n",
      "7400:\tlearn: 0.0005774\ttest: 0.0010540\tbest: 0.0010540 (7400)\ttotal: 1m 25s\tremaining: 30.1s\n",
      "7500:\tlearn: 0.0005671\ttest: 0.0010437\tbest: 0.0010437 (7500)\ttotal: 1m 27s\tremaining: 29s\n",
      "7600:\tlearn: 0.0005569\ttest: 0.0010327\tbest: 0.0010327 (7600)\ttotal: 1m 28s\tremaining: 27.9s\n",
      "7700:\tlearn: 0.0005477\ttest: 0.0010238\tbest: 0.0010238 (7700)\ttotal: 1m 29s\tremaining: 26.7s\n",
      "7800:\tlearn: 0.0005388\ttest: 0.0010146\tbest: 0.0010146 (7799)\ttotal: 1m 30s\tremaining: 25.6s\n",
      "7900:\tlearn: 0.0005298\ttest: 0.0010048\tbest: 0.0010048 (7900)\ttotal: 1m 32s\tremaining: 24.5s\n",
      "8000:\tlearn: 0.0005218\ttest: 0.0009963\tbest: 0.0009963 (8000)\ttotal: 1m 33s\tremaining: 23.3s\n",
      "8100:\tlearn: 0.0005142\ttest: 0.0009886\tbest: 0.0009886 (8100)\ttotal: 1m 34s\tremaining: 22.2s\n",
      "8200:\tlearn: 0.0005057\ttest: 0.0009801\tbest: 0.0009801 (8198)\ttotal: 1m 35s\tremaining: 21s\n",
      "8300:\tlearn: 0.0004981\ttest: 0.0009727\tbest: 0.0009727 (8300)\ttotal: 1m 37s\tremaining: 19.9s\n",
      "8400:\tlearn: 0.0004906\ttest: 0.0009644\tbest: 0.0009644 (8400)\ttotal: 1m 38s\tremaining: 18.7s\n",
      "8500:\tlearn: 0.0004838\ttest: 0.0009572\tbest: 0.0009572 (8500)\ttotal: 1m 39s\tremaining: 17.6s\n",
      "8600:\tlearn: 0.0004769\ttest: 0.0009504\tbest: 0.0009504 (8600)\ttotal: 1m 40s\tremaining: 16.4s\n",
      "8700:\tlearn: 0.0004695\ttest: 0.0009427\tbest: 0.0009427 (8699)\ttotal: 1m 42s\tremaining: 15.3s\n",
      "8800:\tlearn: 0.0004630\ttest: 0.0009361\tbest: 0.0009361 (8799)\ttotal: 1m 43s\tremaining: 14.1s\n",
      "8900:\tlearn: 0.0004568\ttest: 0.0009293\tbest: 0.0009293 (8900)\ttotal: 1m 44s\tremaining: 12.9s\n",
      "9000:\tlearn: 0.0004505\ttest: 0.0009229\tbest: 0.0009229 (9000)\ttotal: 1m 46s\tremaining: 11.8s\n",
      "9100:\tlearn: 0.0004442\ttest: 0.0009169\tbest: 0.0009169 (9100)\ttotal: 1m 47s\tremaining: 10.6s\n",
      "9200:\tlearn: 0.0004384\ttest: 0.0009102\tbest: 0.0009102 (9200)\ttotal: 1m 48s\tremaining: 9.43s\n",
      "9300:\tlearn: 0.0004324\ttest: 0.0009039\tbest: 0.0009039 (9300)\ttotal: 1m 49s\tremaining: 8.25s\n",
      "9400:\tlearn: 0.0004268\ttest: 0.0008989\tbest: 0.0008989 (9400)\ttotal: 1m 51s\tremaining: 7.08s\n",
      "9500:\tlearn: 0.0004210\ttest: 0.0008926\tbest: 0.0008926 (9500)\ttotal: 1m 52s\tremaining: 5.9s\n",
      "9600:\tlearn: 0.0004157\ttest: 0.0008865\tbest: 0.0008865 (9600)\ttotal: 1m 53s\tremaining: 4.72s\n",
      "9700:\tlearn: 0.0004104\ttest: 0.0008806\tbest: 0.0008806 (9700)\ttotal: 1m 54s\tremaining: 3.54s\n",
      "9800:\tlearn: 0.0004050\ttest: 0.0008747\tbest: 0.0008747 (9800)\ttotal: 1m 56s\tremaining: 2.36s\n",
      "9900:\tlearn: 0.0004000\ttest: 0.0008695\tbest: 0.0008695 (9899)\ttotal: 1m 57s\tremaining: 1.17s\n",
      "9999:\tlearn: 0.0003951\ttest: 0.0008640\tbest: 0.0008640 (9999)\ttotal: 1m 58s\tremaining: 0us\n",
      "bestTest = 0.0008639536613\n",
      "bestIteration = 9999\n"
     ]
    }
   ],
   "source": [
    "model = CatBoostClassifier(\n",
    "    iterations=10000,\n",
    "    eval_metric='MultiClass',\n",
    "    task_type=\"GPU\",\n",
    "    learning_rate=0.01,\n",
    "    use_best_model=True,\n",
    "    early_stopping_rounds=200,\n",
    "    random_seed=1\n",
    ")\n",
    "\n",
    "model.fit(\n",
    "    train_pool,\n",
    "    eval_set=validation_pool,\n",
    "    verbose=100\n",
    ");"
   ]
  },
  {
   "cell_type": "code",
   "execution_count": 13,
   "metadata": {},
   "outputs": [],
   "source": [
    "model.save_model('C:\\\\Users\\\\dandy\\\\hand gesture recognition\\\\models\\\\catboost_m_v5_nf_cl.cbm')"
   ]
  }
 ],
 "metadata": {
  "interpreter": {
   "hash": "2fccb30966a34eb4c203704ea4419f01615b8311d9095c0bab7b138fa2d01430"
  },
  "kernelspec": {
   "display_name": "Python 3.8.8 ('base')",
   "language": "python",
   "name": "python3"
  },
  "language_info": {
   "codemirror_mode": {
    "name": "ipython",
    "version": 3
   },
   "file_extension": ".py",
   "mimetype": "text/x-python",
   "name": "python",
   "nbconvert_exporter": "python",
   "pygments_lexer": "ipython3",
   "version": "3.8.8"
  },
  "orig_nbformat": 4
 },
 "nbformat": 4,
 "nbformat_minor": 2
}
